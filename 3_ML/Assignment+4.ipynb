{
 "cells": [
  {
   "cell_type": "markdown",
   "metadata": {},
   "source": [
    "---\n",
    "\n",
    "_You are currently looking at **version 1.1** of this notebook. To download notebooks and datafiles, as well as get help on Jupyter notebooks in the Coursera platform, visit the [Jupyter Notebook FAQ](https://www.coursera.org/learn/python-machine-learning/resources/bANLa) course resource._\n",
    "\n",
    "---"
   ]
  },
  {
   "cell_type": "markdown",
   "metadata": {},
   "source": [
    "## Assignment 4 - Understanding and Predicting Property Maintenance Fines\n",
    "\n",
    "This assignment is based on a data challenge from the Michigan Data Science Team ([MDST](http://midas.umich.edu/mdst/)). \n",
    "\n",
    "The Michigan Data Science Team ([MDST](http://midas.umich.edu/mdst/)) and the Michigan Student Symposium for Interdisciplinary Statistical Sciences ([MSSISS](https://sites.lsa.umich.edu/mssiss/)) have partnered with the City of Detroit to help solve one of the most pressing problems facing Detroit - blight. [Blight violations](http://www.detroitmi.gov/How-Do-I/Report/Blight-Complaint-FAQs) are issued by the city to individuals who allow their properties to remain in a deteriorated condition. Every year, the city of Detroit issues millions of dollars in fines to residents and every year, many of these fines remain unpaid. Enforcing unpaid blight fines is a costly and tedious process, so the city wants to know: how can we increase blight ticket compliance?\n",
    "\n",
    "The first step in answering this question is understanding when and why a resident might fail to comply with a blight ticket. This is where predictive modeling comes in. For this assignment, your task is to predict whether a given blight ticket will be paid on time.\n",
    "\n",
    "All data for this assignment has been provided to us through the [Detroit Open Data Portal](https://data.detroitmi.gov/). **Only the data already included in your Coursera directory can be used for training the model for this assignment.** Nonetheless, we encourage you to look into data from other Detroit datasets to help inform feature creation and model selection. We recommend taking a look at the following related datasets:\n",
    "\n",
    "* [Building Permits](https://data.detroitmi.gov/Property-Parcels/Building-Permits/xw2a-a7tf)\n",
    "* [Trades Permits](https://data.detroitmi.gov/Property-Parcels/Trades-Permits/635b-dsgv)\n",
    "* [Improve Detroit: Submitted Issues](https://data.detroitmi.gov/Government/Improve-Detroit-Submitted-Issues/fwz3-w3yn)\n",
    "* [DPD: Citizen Complaints](https://data.detroitmi.gov/Public-Safety/DPD-Citizen-Complaints-2016/kahe-efs3)\n",
    "* [Parcel Map](https://data.detroitmi.gov/Property-Parcels/Parcel-Map/fxkw-udwf)\n",
    "\n",
    "___\n",
    "\n",
    "We provide you with two data files for use in training and validating your models: train.csv and test.csv. Each row in these two files corresponds to a single blight ticket, and includes information about when, why, and to whom each ticket was issued. The target variable is compliance, which is True if the ticket was paid early, on time, or within one month of the hearing data, False if the ticket was paid after the hearing date or not at all, and Null if the violator was found not responsible. Compliance, as well as a handful of other variables that will not be available at test-time, are only included in train.csv.\n",
    "\n",
    "Note: All tickets where the violators were found not responsible are not considered during evaluation. They are included in the training set as an additional source of data for visualization, and to enable unsupervised and semi-supervised approaches. However, they are not included in the test set.\n",
    "\n",
    "<br>\n",
    "\n",
    "**File descriptions** (Use only this data for training your model!)\n",
    "\n",
    "    readonly/train.csv - the training set (all tickets issued 2004-2011)\n",
    "    readonly/test.csv - the test set (all tickets issued 2012-2016)\n",
    "    readonly/addresses.csv & readonly/latlons.csv - mapping from ticket id to addresses, and from addresses to lat/lon coordinates. \n",
    "     Note: misspelled addresses may be incorrectly geolocated.\n",
    "\n",
    "<br>\n",
    "\n",
    "**Data fields**\n",
    "\n",
    "train.csv & test.csv\n",
    "\n",
    "    ticket_id - unique identifier for tickets\n",
    "    agency_name - Agency that issued the ticket\n",
    "    inspector_name - Name of inspector that issued the ticket\n",
    "    violator_name - Name of the person/organization that the ticket was issued to\n",
    "    violation_street_number, violation_street_name, violation_zip_code - Address where the violation occurred\n",
    "    mailing_address_str_number, mailing_address_str_name, city, state, zip_code, non_us_str_code, country - Mailing address of the violator\n",
    "    ticket_issued_date - Date and time the ticket was issued\n",
    "    hearing_date - Date and time the violator's hearing was scheduled\n",
    "    violation_code, violation_description - Type of violation\n",
    "    disposition - Judgment and judgement type\n",
    "    fine_amount - Violation fine amount, excluding fees\n",
    "    admin_fee - $20 fee assigned to responsible judgments\n",
    "state_fee - $10 fee assigned to responsible judgments\n",
    "    late_fee - 10% fee assigned to responsible judgments\n",
    "    discount_amount - discount applied, if any\n",
    "    clean_up_cost - DPW clean-up or graffiti removal cost\n",
    "    judgment_amount - Sum of all fines and fees\n",
    "    grafitti_status - Flag for graffiti violations\n",
    "    \n",
    "train.csv only\n",
    "\n",
    "    payment_amount - Amount paid, if any\n",
    "    payment_date - Date payment was made, if it was received\n",
    "    payment_status - Current payment status as of Feb 1 2017\n",
    "    balance_due - Fines and fees still owed\n",
    "    collection_status - Flag for payments in collections\n",
    "    compliance [target variable for prediction] \n",
    "     Null = Not responsible\n",
    "     0 = Responsible, non-compliant\n",
    "     1 = Responsible, compliant\n",
    "    compliance_detail - More information on why each ticket was marked compliant or non-compliant\n",
    "\n",
    "\n",
    "___\n",
    "\n",
    "## Evaluation\n",
    "\n",
    "Your predictions will be given as the probability that the corresponding blight ticket will be paid on time.\n",
    "\n",
    "The evaluation metric for this assignment is the Area Under the ROC Curve (AUC). \n",
    "\n",
    "Your grade will be based on the AUC score computed for your classifier. A model which with an AUROC of 0.7 passes this assignment, over 0.75 will recieve full points.\n",
    "___\n",
    "\n",
    "For this assignment, create a function that trains a model to predict blight ticket compliance in Detroit using `readonly/train.csv`. Using this model, return a series of length 61001 with the data being the probability that each corresponding ticket from `readonly/test.csv` will be paid, and the index being the ticket_id.\n",
    "\n",
    "Example:\n",
    "\n",
    "    ticket_id\n",
    "       284932    0.531842\n",
    "       285362    0.401958\n",
    "       285361    0.105928\n",
    "       285338    0.018572\n",
    "                 ...\n",
    "       376499    0.208567\n",
    "       376500    0.818759\n",
    "       369851    0.018528\n",
    "       Name: compliance, dtype: float32\n",
    "       \n",
    "### Hints\n",
    "\n",
    "* Make sure your code is working before submitting it to the autograder.\n",
    "\n",
    "* Print out your result to see whether there is anything weird (e.g., all probabilities are the same).\n",
    "\n",
    "* Generally the total runtime should be less than 10 mins. You should NOT use Neural Network related classifiers (e.g., MLPClassifier) in this question. \n",
    "\n",
    "* Try to avoid global variables. If you have other functions besides blight_model, you should move those functions inside the scope of blight_model.\n",
    "\n",
    "* Refer to the pinned threads in Week 4's discussion forum when there is something you could not figure it out."
   ]
  },
  {
   "cell_type": "code",
   "execution_count": null,
   "metadata": {
    "collapsed": true
   },
   "outputs": [],
   "source": [
    "import pandas as pd\n",
    "import numpy as np\n",
    "\n",
    "def blight_model():\n",
    "    \n",
    "    # Your code here\n",
    "    \n",
    "    return # Your answer here"
   ]
  },
  {
   "cell_type": "code",
   "execution_count": null,
   "metadata": {
    "collapsed": true
   },
   "outputs": [],
   "source": [
    "blight_model()"
   ]
  },
  {
   "cell_type": "code",
   "execution_count": 8,
   "metadata": {
    "collapsed": true
   },
   "outputs": [],
   "source": [
    "import pandas as pd\n",
    "import numpy as np"
   ]
  },
  {
   "cell_type": "code",
   "execution_count": 9,
   "metadata": {
    "collapsed": false,
    "scrolled": true
   },
   "outputs": [],
   "source": [
    "df = pd.read_csv('readonly/train.csv', encoding = \"latin\", low_memory=False)\n",
    "test = pd.read_csv('readonly/test.csv', encoding = \"latin\", low_memory=False)\n",
    "address = pd.read_csv(\"readonly/addresses.csv\")\n",
    "lat = pd.read_csv('readonly/latlons.csv', encoding = \"latin\", low_memory=False)\n",
    "\n"
   ]
  },
  {
   "cell_type": "code",
   "execution_count": 10,
   "metadata": {
    "collapsed": false
   },
   "outputs": [
    {
     "data": {
      "text/plain": [
       "((250306, 34), (61001, 27), (311307, 2), (121769, 3))"
      ]
     },
     "execution_count": 10,
     "metadata": {},
     "output_type": "execute_result"
    }
   ],
   "source": [
    "df.shape,test.shape, address.shape, lat.shape"
   ]
  },
  {
   "cell_type": "code",
   "execution_count": 5,
   "metadata": {
    "collapsed": false
   },
   "outputs": [
    {
     "data": {
      "text/html": [
       "<div>\n",
       "<table border=\"1\" class=\"dataframe\">\n",
       "  <thead>\n",
       "    <tr style=\"text-align: right;\">\n",
       "      <th></th>\n",
       "      <th>ticket_id</th>\n",
       "      <th>agency_name</th>\n",
       "      <th>inspector_name</th>\n",
       "      <th>violator_name</th>\n",
       "      <th>violation_street_number</th>\n",
       "      <th>violation_street_name</th>\n",
       "      <th>violation_zip_code</th>\n",
       "      <th>mailing_address_str_number</th>\n",
       "      <th>mailing_address_str_name</th>\n",
       "      <th>city</th>\n",
       "      <th>state</th>\n",
       "      <th>zip_code</th>\n",
       "      <th>non_us_str_code</th>\n",
       "      <th>country</th>\n",
       "      <th>ticket_issued_date</th>\n",
       "    </tr>\n",
       "  </thead>\n",
       "  <tbody>\n",
       "    <tr>\n",
       "      <th>0</th>\n",
       "      <td>22056</td>\n",
       "      <td>Buildings, Safety Engineering &amp; Env Department</td>\n",
       "      <td>Sims, Martinzie</td>\n",
       "      <td>INVESTMENT INC., MIDWEST MORTGAGE</td>\n",
       "      <td>2900.0</td>\n",
       "      <td>TYLER</td>\n",
       "      <td>NaN</td>\n",
       "      <td>3.0</td>\n",
       "      <td>S. WICKER</td>\n",
       "      <td>CHICAGO</td>\n",
       "      <td>IL</td>\n",
       "      <td>60606</td>\n",
       "      <td>NaN</td>\n",
       "      <td>USA</td>\n",
       "      <td>2004-03-16 11:40:00</td>\n",
       "    </tr>\n",
       "    <tr>\n",
       "      <th>1</th>\n",
       "      <td>27586</td>\n",
       "      <td>Buildings, Safety Engineering &amp; Env Department</td>\n",
       "      <td>Williams, Darrin</td>\n",
       "      <td>Michigan, Covenant House</td>\n",
       "      <td>4311.0</td>\n",
       "      <td>CENTRAL</td>\n",
       "      <td>NaN</td>\n",
       "      <td>2959.0</td>\n",
       "      <td>Martin Luther King</td>\n",
       "      <td>Detroit</td>\n",
       "      <td>MI</td>\n",
       "      <td>48208</td>\n",
       "      <td>NaN</td>\n",
       "      <td>USA</td>\n",
       "      <td>2004-04-23 12:30:00</td>\n",
       "    </tr>\n",
       "  </tbody>\n",
       "</table>\n",
       "</div>"
      ],
      "text/plain": [
       "   ticket_id                                     agency_name  \\\n",
       "0      22056  Buildings, Safety Engineering & Env Department   \n",
       "1      27586  Buildings, Safety Engineering & Env Department   \n",
       "\n",
       "     inspector_name                      violator_name  \\\n",
       "0   Sims, Martinzie  INVESTMENT INC., MIDWEST MORTGAGE   \n",
       "1  Williams, Darrin           Michigan, Covenant House   \n",
       "\n",
       "   violation_street_number violation_street_name  violation_zip_code  \\\n",
       "0                   2900.0                 TYLER                 NaN   \n",
       "1                   4311.0               CENTRAL                 NaN   \n",
       "\n",
       "   mailing_address_str_number mailing_address_str_name     city state  \\\n",
       "0                         3.0                S. WICKER  CHICAGO    IL   \n",
       "1                      2959.0       Martin Luther King  Detroit    MI   \n",
       "\n",
       "  zip_code non_us_str_code country   ticket_issued_date  \n",
       "0    60606             NaN     USA  2004-03-16 11:40:00  \n",
       "1    48208             NaN     USA  2004-04-23 12:30:00  "
      ]
     },
     "execution_count": 5,
     "metadata": {},
     "output_type": "execute_result"
    }
   ],
   "source": [
    "df.iloc[:2,:15]"
   ]
  },
  {
   "cell_type": "code",
   "execution_count": 6,
   "metadata": {
    "collapsed": false
   },
   "outputs": [
    {
     "data": {
      "text/html": [
       "<div>\n",
       "<table border=\"1\" class=\"dataframe\">\n",
       "  <thead>\n",
       "    <tr style=\"text-align: right;\">\n",
       "      <th></th>\n",
       "      <th>disposition</th>\n",
       "      <th>fine_amount</th>\n",
       "      <th>admin_fee</th>\n",
       "      <th>state_fee</th>\n",
       "      <th>late_fee</th>\n",
       "      <th>discount_amount</th>\n",
       "      <th>clean_up_cost</th>\n",
       "      <th>judgment_amount</th>\n",
       "      <th>payment_amount</th>\n",
       "      <th>balance_due</th>\n",
       "      <th>payment_date</th>\n",
       "      <th>payment_status</th>\n",
       "      <th>collection_status</th>\n",
       "      <th>grafitti_status</th>\n",
       "      <th>compliance_detail</th>\n",
       "      <th>compliance</th>\n",
       "    </tr>\n",
       "  </thead>\n",
       "  <tbody>\n",
       "    <tr>\n",
       "      <th>0</th>\n",
       "      <td>Responsible by Default</td>\n",
       "      <td>250.0</td>\n",
       "      <td>20.0</td>\n",
       "      <td>10.0</td>\n",
       "      <td>25.0</td>\n",
       "      <td>0.0</td>\n",
       "      <td>0.0</td>\n",
       "      <td>305.0</td>\n",
       "      <td>0.0</td>\n",
       "      <td>305.0</td>\n",
       "      <td>NaN</td>\n",
       "      <td>NO PAYMENT APPLIED</td>\n",
       "      <td>NaN</td>\n",
       "      <td>NaN</td>\n",
       "      <td>non-compliant by no payment</td>\n",
       "      <td>0.0</td>\n",
       "    </tr>\n",
       "    <tr>\n",
       "      <th>1</th>\n",
       "      <td>Responsible by Determination</td>\n",
       "      <td>750.0</td>\n",
       "      <td>20.0</td>\n",
       "      <td>10.0</td>\n",
       "      <td>75.0</td>\n",
       "      <td>0.0</td>\n",
       "      <td>0.0</td>\n",
       "      <td>855.0</td>\n",
       "      <td>780.0</td>\n",
       "      <td>75.0</td>\n",
       "      <td>2005-06-02 00:00:00</td>\n",
       "      <td>PAID IN FULL</td>\n",
       "      <td>NaN</td>\n",
       "      <td>NaN</td>\n",
       "      <td>compliant by late payment within 1 month</td>\n",
       "      <td>1.0</td>\n",
       "    </tr>\n",
       "  </tbody>\n",
       "</table>\n",
       "</div>"
      ],
      "text/plain": [
       "                    disposition  fine_amount  admin_fee  state_fee  late_fee  \\\n",
       "0        Responsible by Default        250.0       20.0       10.0      25.0   \n",
       "1  Responsible by Determination        750.0       20.0       10.0      75.0   \n",
       "\n",
       "   discount_amount  clean_up_cost  judgment_amount  payment_amount  \\\n",
       "0              0.0            0.0            305.0             0.0   \n",
       "1              0.0            0.0            855.0           780.0   \n",
       "\n",
       "   balance_due         payment_date      payment_status collection_status  \\\n",
       "0        305.0                  NaN  NO PAYMENT APPLIED               NaN   \n",
       "1         75.0  2005-06-02 00:00:00        PAID IN FULL               NaN   \n",
       "\n",
       "  grafitti_status                         compliance_detail  compliance  \n",
       "0             NaN               non-compliant by no payment         0.0  \n",
       "1             NaN  compliant by late payment within 1 month         1.0  "
      ]
     },
     "execution_count": 6,
     "metadata": {},
     "output_type": "execute_result"
    }
   ],
   "source": [
    "df.iloc[:2,18:]"
   ]
  },
  {
   "cell_type": "code",
   "execution_count": 7,
   "metadata": {
    "collapsed": false
   },
   "outputs": [
    {
     "name": "stdout",
     "output_type": "stream",
     "text": [
      "   ticket_id                   address\n",
      "0      22056    2900 tyler, Detroit MI\n",
      "1      27586  4311 central, Detroit MI \n",
      "                                   address        lat        lon\n",
      "0  4300 rosa parks blvd, Detroit MI 48208  42.346169 -83.079962\n",
      "1                14512 sussex, Detroit MI  42.394657 -83.194265\n"
     ]
    }
   ],
   "source": [
    "print(address.head(2),'\\n',lat.head(2))"
   ]
  },
  {
   "cell_type": "code",
   "execution_count": 11,
   "metadata": {
    "collapsed": false
   },
   "outputs": [],
   "source": [
    "df = df.merge(address , on = 'ticket_id')"
   ]
  },
  {
   "cell_type": "code",
   "execution_count": 12,
   "metadata": {
    "collapsed": false
   },
   "outputs": [],
   "source": [
    "df = df.merge(lat, on = 'address')"
   ]
  },
  {
   "cell_type": "code",
   "execution_count": null,
   "metadata": {
    "collapsed": true
   },
   "outputs": [],
   "source": [
    "df.iloc[:2,:]"
   ]
  },
  {
   "cell_type": "code",
   "execution_count": 13,
   "metadata": {
    "collapsed": false
   },
   "outputs": [],
   "source": [
    "df['ticket_issued_date'] = pd.to_datetime(df['ticket_issued_date'])\n",
    "df['hearing_date'] = pd.to_datetime(df['hearing_date'])\n",
    "df['Difference'] = (df['hearing_date'] - df['ticket_issued_date']).dt.days"
   ]
  },
  {
   "cell_type": "code",
   "execution_count": 14,
   "metadata": {
    "collapsed": false
   },
   "outputs": [],
   "source": [
    "df = df.dropna(subset = ['compliance', 'lat','lon'])"
   ]
  },
  {
   "cell_type": "code",
   "execution_count": 15,
   "metadata": {
    "collapsed": false
   },
   "outputs": [
    {
     "data": {
      "text/plain": [
       "(159878, 38)"
      ]
     },
     "execution_count": 15,
     "metadata": {},
     "output_type": "execute_result"
    }
   ],
   "source": [
    "df.shape"
   ]
  },
  {
   "cell_type": "code",
   "execution_count": 16,
   "metadata": {
    "collapsed": false
   },
   "outputs": [],
   "source": [
    "%matplotlib notebook\n",
    "import matplotlib.pyplot as plt\n",
    "import seaborn as sns\n"
   ]
  },
  {
   "cell_type": "code",
   "execution_count": null,
   "metadata": {
    "collapsed": false
   },
   "outputs": [],
   "source": [
    "plt.figure(figsize=(7,7))\n",
    "plt.scatter(df['lat']*10, df['lon']*10, c = df['compliance'], alpha = 0.5, cmap='viridis')\n",
    "plt.xlim([423 , 424.5])\n",
    "plt.ylim([-833, -831])\n",
    "plt.show()"
   ]
  },
  {
   "cell_type": "code",
   "execution_count": 17,
   "metadata": {
    "collapsed": false
   },
   "outputs": [],
   "source": [
    "from sklearn.preprocessing import OneHotEncoder, LabelEncoder\n",
    "\n",
    "labelencoder_X = LabelEncoder()\n",
    "df.iloc[:,1] = labelencoder_X.fit_transform(df.iloc[:,1])"
   ]
  },
  {
   "cell_type": "code",
   "execution_count": 18,
   "metadata": {
    "collapsed": false
   },
   "outputs": [],
   "source": [
    "labelencoder_disp = LabelEncoder()\n",
    "\n",
    "df['disposition'] = labelencoder_disp.fit_transform(df['disposition'])"
   ]
  },
  {
   "cell_type": "code",
   "execution_count": 19,
   "metadata": {
    "collapsed": false
   },
   "outputs": [],
   "source": [
    "labelencoder_viol = LabelEncoder()\n",
    "\n",
    "df['violation_code'] = labelencoder_disp.fit_transform(df['violation_code'])"
   ]
  },
  {
   "cell_type": "code",
   "execution_count": null,
   "metadata": {
    "collapsed": false
   },
   "outputs": [],
   "source": [
    "test.columns"
   ]
  },
  {
   "cell_type": "code",
   "execution_count": 20,
   "metadata": {
    "collapsed": false,
    "scrolled": true
   },
   "outputs": [
    {
     "data": {
      "text/plain": [
       "'violation_code'"
      ]
     },
     "execution_count": 20,
     "metadata": {},
     "output_type": "execute_result"
    }
   ],
   "source": [
    "X = df[['lat','lon','discount_amount','judgment_amount','disposition','agency_name','late_fee',]]\n",
    "y = df.iloc[:,-5]\n",
    "'violation_code'"
   ]
  },
  {
   "cell_type": "code",
   "execution_count": 21,
   "metadata": {
    "collapsed": false
   },
   "outputs": [],
   "source": [
    "from sklearn.model_selection import train_test_split\n",
    "X_train, X_test, y_train, y_test = train_test_split(X,y,random_state = 10)"
   ]
  },
  {
   "cell_type": "code",
   "execution_count": 22,
   "metadata": {
    "collapsed": true
   },
   "outputs": [],
   "source": [
    "# knn classifier\n",
    "from sklearn.metrics import confusion_matrix\n",
    "from sklearn.metrics import roc_auc_score\n",
    "\n",
    "from sklearn.neighbors import KNeighborsClassifier\n",
    "from sklearn.linear_model import LogisticRegression\n",
    "from sklearn.ensemble import GradientBoostingClassifier\n",
    "from sklearn.ensemble import RandomForestClassifier\n",
    "\n",
    "from sklearn.tree import DecisionTreeClassifier\n",
    "from sklearn.svm import SVC\n",
    "from sklearn.naive_bayes import GaussianNB\n",
    "\n"
   ]
  },
  {
   "cell_type": "markdown",
   "metadata": {},
   "source": [
    "# k nearest "
   ]
  },
  {
   "cell_type": "code",
   "execution_count": null,
   "metadata": {
    "collapsed": false
   },
   "outputs": [],
   "source": [
    "#X = df.iloc[:,[1,-1,-2,-14,-12]]\n",
    "\n",
    "\n",
    "logreg = LogisticRegression(C = 1)\n",
    "logreg.fit(X_train,y_train)\n",
    "print('Train score : ', logreg.score(X_train,y_train))\n",
    "print('Test score : ', logreg.score(X_test,y_test))\n",
    "y_pred = logreg.predict(X_test)\n",
    "print(confusion_matrix(y_test,y_pred))\n",
    "print('roc :', roc_auc_score(y_test,logreg.predict_proba(X_test)[:,1]))\n",
    "print(\"--------------------------\")\n"
   ]
  },
  {
   "cell_type": "code",
   "execution_count": null,
   "metadata": {
    "collapsed": false
   },
   "outputs": [],
   "source": [
    "#X = df.iloc[:,[1,-1,-2,-14,-12]]\n",
    "\n",
    "grdbst = GradientBoostingClassifier().fit(X_train,y_train)\n",
    "print('Train score : ', grdbst.score(X_train,y_train))\n",
    "print('Test score : ', grdbst.score(X_test,y_test))\n",
    "y_pred = grdbst.predict(X_test)\n",
    "print(confusion_matrix(y_test,y_pred))\n",
    "print('roc :', roc_auc_score(y_test,grdbst.predict_proba(X_test)[:,1]))\n",
    "print(\"--------------------------\")"
   ]
  },
  {
   "cell_type": "raw",
   "metadata": {},
   "source": [
    "#taking too long\n",
    "#X = df.iloc[:,[1,-1,-2,-14,-12]]\n",
    "\n",
    "svc = SVC(kernel= 'rbf', gamma = 1, C = 1,degree=2, cache_size = 7000)\n",
    "svc.fit(X_train,y_train)\n",
    "print('Train score : ', svc.score(X_train,y_train))\n",
    "print('Test score : ', svc.score(X_test,y_test))\n",
    "y_pred = svc.predict(X_test)\n",
    "print(confusion_matrix(y_test,y_pred))\n",
    "print('roc :', roc_auc_score(y_test,svc.predict_proba(X_test)[:,1]))\n",
    "print(\"--------------------------\")\n"
   ]
  },
  {
   "cell_type": "markdown",
   "metadata": {},
   "source": [
    "# Cross validation + Grid Search "
   ]
  },
  {
   "cell_type": "code",
   "execution_count": 23,
   "metadata": {
    "collapsed": true
   },
   "outputs": [],
   "source": [
    "from sklearn.model_selection import GridSearchCV\n",
    "from sklearn.model_selection import cross_val_score\n",
    "from sklearn.model_selection import StratifiedKFold"
   ]
  },
  {
   "cell_type": "code",
   "execution_count": null,
   "metadata": {
    "collapsed": false
   },
   "outputs": [],
   "source": [
    "r_forest = RandomForestClassifier(n_estimators=50)\n",
    "\n",
    "#score = cross_val_score(r_forest, X_train, y_train,cv = 3, scoring = 'roc_auc')\n",
    "#score\n",
    "params = {'max_depth': [ 6,10,20],\n",
    "         'min_samples_split':[5,10,15],\n",
    "         'min_samples_leaf' :[4,8,12,15],\n",
    "         'n_estimators' : [50,100,200]}"
   ]
  },
  {
   "cell_type": "code",
   "execution_count": null,
   "metadata": {
    "collapsed": false
   },
   "outputs": [],
   "source": [
    "params = {'max_depth': [ 6,10],\n",
    "         'min_samples_split':[5,10],\n",
    "         'min_samples_leaf' :[4,8],\n",
    "         'n_estimators' : [50]}\n",
    "r_forest = RandomForestClassifier(bootstrap=True, class_weight={0: 2, 1: 30},\n",
    "            criterion='gini', max_depth=10, max_features='auto',\n",
    "            max_leaf_nodes=None, min_impurity_split=1e-07,\n",
    "            min_samples_leaf=4, min_samples_split=5,\n",
    "            min_weight_fraction_leaf=0.0, n_estimators=50, n_jobs=1,\n",
    "            oob_score=False, random_state=None, verbose=0,\n",
    "            warm_start=False)\n",
    "r_forest.fit(X_train,y_train)\n",
    "print('Train score : ', r_forest.score(X_train,y_train))\n",
    "print('Test score : ', r_forest.score(X_test,y_test))\n",
    "y_pred = r_forest.predict(X_test)\n",
    "print(confusion_matrix(y_test,y_pred))\n",
    "print('roc :', roc_auc_score(y_test,r_forest.predict_proba(X_test)[:,1]))\n",
    "print(\"--------------------------\")\n"
   ]
  },
  {
   "cell_type": "code",
   "execution_count": null,
   "metadata": {
    "collapsed": false
   },
   "outputs": [],
   "source": [
    "params = {'max_depth': [ 6,10],\n",
    "         'min_samples_split':[5,10],\n",
    "         'min_samples_leaf' :[4,8],\n",
    "         'n_estimators' : [100]}\n",
    "r_forest = RandomForestClassifier(bootstrap=True, class_weight={0: 2, 1: 30},\n",
    "            criterion='gini', max_depth=10, max_features='auto',\n",
    "            max_leaf_nodes=None, min_impurity_split=1e-07,\n",
    "            min_samples_leaf=4, min_samples_split=10,\n",
    "            min_weight_fraction_leaf=0.0, n_estimators=100, n_jobs=1,\n",
    "            oob_score=False, random_state=None, verbose=0,\n",
    "            warm_start=False)\n",
    "r_forest.fit(X_train,y_train)\n",
    "print('Train score : ', r_forest.score(X_train,y_train))\n",
    "print('Test score : ', r_forest.score(X_test,y_test))\n",
    "y_pred = r_forest.predict(X_test)\n",
    "print(confusion_matrix(y_test,y_pred))\n",
    "print('roc :', roc_auc_score(y_test,r_forest.predict_proba(X_test)[:,1]))\n",
    "print(\"--------------------------\")"
   ]
  },
  {
   "cell_type": "code",
   "execution_count": null,
   "metadata": {
    "collapsed": false
   },
   "outputs": [],
   "source": [
    "cv = StratifiedKFold(n_splits=2, shuffle=True)\n",
    "r_forest = RandomForestClassifier(n_estimators = 50)\n",
    "params = {'max_depth': [ 6,10,20],\n",
    "         'min_samples_split':[5,10,15],\n",
    "         'min_samples_leaf' :[4,8,12],\n",
    "         'class_weight': [{0:2,1:10},{0:2,1:20},{0:2,1:30}]}\n",
    "\n",
    "# default metric to optimize over grid parameters:\n",
    "grid_clf = GridSearchCV(estimator = r_forest, param_grid = params, n_jobs = -1, verbose = 2,cv = cv,scoring='roc_auc' )\n",
    "grid_clf.fit(X_train, y_train)\n",
    "print(grid_clf.best_estimator_)\n",
    "print(grid_clf.best_params_)\n",
    "r_forest = RandomForestClassifier(bootstrap=True, class_weight={0: 2, 1: 10},\n",
    "            criterion='gini', max_depth=20, max_features='auto',\n",
    "            max_leaf_nodes=None, min_impurity_split=1e-07,\n",
    "            min_samples_leaf=12, min_samples_split=5,\n",
    "            min_weight_fraction_leaf=0.0, n_estimators=50, n_jobs=1,\n",
    "            oob_score=False, random_state=None, verbose=0,\n",
    "            warm_start=False)\n",
    "r_forest.fit(X_train,y_train)\n",
    "print('Train score : ', r_forest.score(X_train,y_train))\n",
    "print('Test score : ', r_forest.score(X_test,y_test))\n",
    "y_pred = r_forest.predict(X_test)\n",
    "print(confusion_matrix(y_test,y_pred))\n",
    "print('roc :', roc_auc_score(y_test,r_forest.predict_proba(X_test)[:,1]))\n",
    "print(\"--------------------------\")"
   ]
  },
  {
   "cell_type": "code",
   "execution_count": 28,
   "metadata": {
    "collapsed": false
   },
   "outputs": [
    {
     "name": "stdout",
     "output_type": "stream",
     "text": [
      "Fitting 2 folds for each of 8 candidates, totalling 16 fits\n",
      "[CV] class_weight={0: 2, 1: 10}, max_depth=20, min_samples_leaf=10 ...\n",
      "[CV] class_weight={0: 2, 1: 10}, max_depth=20, min_samples_leaf=10 ...\n",
      "[CV] class_weight={0: 2, 1: 10}, max_depth=20, min_samples_leaf=12 ...\n",
      "[CV] class_weight={0: 2, 1: 10}, max_depth=20, min_samples_leaf=12 ...\n",
      "[CV] class_weight={0: 2, 1: 10}, max_depth=30, min_samples_leaf=10 ...\n",
      "[CV] class_weight={0: 2, 1: 10}, max_depth=30, min_samples_leaf=10 ...\n",
      "[CV] class_weight={0: 2, 1: 10}, max_depth=30, min_samples_leaf=12 ...\n",
      "[CV] class_weight={0: 2, 1: 10}, max_depth=30, min_samples_leaf=12 ...\n",
      "[CV] class_weight={0: 1, 1: 10}, max_depth=20, min_samples_leaf=10 ...\n",
      "[CV] class_weight={0: 1, 1: 10}, max_depth=20, min_samples_leaf=10 ...\n",
      "[CV] class_weight={0: 1, 1: 10}, max_depth=20, min_samples_leaf=12 ...\n",
      "[CV] class_weight={0: 1, 1: 10}, max_depth=20, min_samples_leaf=12 ...\n",
      "[CV] class_weight={0: 1, 1: 10}, max_depth=30, min_samples_leaf=10 ...\n",
      "[CV] class_weight={0: 1, 1: 10}, max_depth=30, min_samples_leaf=10 ...\n",
      "[CV] class_weight={0: 1, 1: 10}, max_depth=30, min_samples_leaf=12 ...\n",
      "[CV] class_weight={0: 1, 1: 10}, max_depth=30, min_samples_leaf=12 ...\n",
      "[CV]  class_weight={0: 2, 1: 10}, max_depth=20, min_samples_leaf=12, score=0.807630, total= 2.4min\n",
      "[CV]  class_weight={0: 2, 1: 10}, max_depth=20, min_samples_leaf=12, score=0.813453, total= 2.6min\n",
      "[CV]  class_weight={0: 2, 1: 10}, max_depth=20, min_samples_leaf=10, score=0.812847, total= 2.7min\n",
      "[CV]  class_weight={0: 2, 1: 10}, max_depth=20, min_samples_leaf=10, score=0.810351, total= 2.7min\n"
     ]
    },
    {
     "name": "stderr",
     "output_type": "stream",
     "text": [
      "[Parallel(n_jobs=-1)]: Done   3 out of  16 | elapsed:  2.9min remaining: 12.4min\n"
     ]
    },
    {
     "name": "stdout",
     "output_type": "stream",
     "text": [
      "[CV]  class_weight={0: 1, 1: 10}, max_depth=20, min_samples_leaf=12, score=0.808611, total= 2.4min\n",
      "[CV]  class_weight={0: 2, 1: 10}, max_depth=30, min_samples_leaf=10, score=0.809583, total= 2.6min\n",
      "[CV]  class_weight={0: 1, 1: 10}, max_depth=20, min_samples_leaf=10, score=0.811513, total= 2.7min\n",
      "[CV]  class_weight={0: 1, 1: 10}, max_depth=20, min_samples_leaf=10, score=0.807594, total= 2.7min\n"
     ]
    },
    {
     "name": "stderr",
     "output_type": "stream",
     "text": [
      "[Parallel(n_jobs=-1)]: Done   8 out of  16 | elapsed:  2.9min remaining:  2.9min\n"
     ]
    },
    {
     "name": "stdout",
     "output_type": "stream",
     "text": [
      "[CV]  class_weight={0: 1, 1: 10}, max_depth=30, min_samples_leaf=10, score=0.812732, total= 2.7min\n",
      "[CV]  class_weight={0: 2, 1: 10}, max_depth=30, min_samples_leaf=10, score=0.814156, total= 2.8min\n",
      "[CV]  class_weight={0: 1, 1: 10}, max_depth=30, min_samples_leaf=12, score=0.813332, total= 2.7min\n",
      "[CV]  class_weight={0: 1, 1: 10}, max_depth=30, min_samples_leaf=12, score=0.806710, total= 2.6min\n",
      "[CV]  class_weight={0: 2, 1: 10}, max_depth=30, min_samples_leaf=12, score=0.808179, total= 2.8min\n"
     ]
    },
    {
     "name": "stderr",
     "output_type": "stream",
     "text": [
      "[Parallel(n_jobs=-1)]: Done  13 out of  16 | elapsed:  3.0min remaining:   41.3s\n"
     ]
    },
    {
     "name": "stdout",
     "output_type": "stream",
     "text": [
      "[CV]  class_weight={0: 2, 1: 10}, max_depth=30, min_samples_leaf=12, score=0.813378, total= 2.9min\n",
      "[CV]  class_weight={0: 1, 1: 10}, max_depth=20, min_samples_leaf=12, score=0.811877, total= 2.8min\n",
      "[CV]  class_weight={0: 1, 1: 10}, max_depth=30, min_samples_leaf=10, score=0.806300, total= 2.8min\n"
     ]
    },
    {
     "name": "stderr",
     "output_type": "stream",
     "text": [
      "[Parallel(n_jobs=-1)]: Done  16 out of  16 | elapsed:  3.0min finished\n"
     ]
    },
    {
     "data": {
      "text/plain": [
       "GridSearchCV(cv=StratifiedKFold(n_splits=2, random_state=None, shuffle=True),\n",
       "       error_score='raise',\n",
       "       estimator=RandomForestClassifier(bootstrap=True, class_weight=None, criterion='gini',\n",
       "            max_depth=None, max_features='auto', max_leaf_nodes=None,\n",
       "            min_impurity_split=1e-07, min_samples_leaf=1,\n",
       "            min_samples_split=5, min_weight_fraction_leaf=0.0,\n",
       "            n_estimators=50, n_jobs=1, oob_score=False, random_state=None,\n",
       "            verbose=0, warm_start=False),\n",
       "       fit_params={}, iid=True, n_jobs=-1,\n",
       "       param_grid={'max_depth': [20, 30], 'min_samples_leaf': [10, 12], 'class_weight': [{0: 2, 1: 10}, {0: 1, 1: 10}]},\n",
       "       pre_dispatch='2*n_jobs', refit=True, return_train_score=True,\n",
       "       scoring='roc_auc', verbose=4)"
      ]
     },
     "execution_count": 28,
     "metadata": {},
     "output_type": "execute_result"
    }
   ],
   "source": [
    "cv = StratifiedKFold(n_splits=2, shuffle=True)\n",
    "r_forest = RandomForestClassifier(n_estimators = 50,min_samples_split=5, )\n",
    "params = {'max_depth': [ 20,30],\n",
    "         'min_samples_leaf' :[10,12],\n",
    "         'class_weight' : [{0:2,1:10},{0:1,1:10}]}\n",
    "\n",
    "# default metric to optimize over grid parameters:\n",
    "grid_clf = GridSearchCV(estimator = r_forest, param_grid = params, n_jobs = -1, verbose = 4,cv = cv,scoring='roc_auc' )\n",
    "grid_clf.fit(X_train, y_train)"
   ]
  },
  {
   "cell_type": "code",
   "execution_count": 30,
   "metadata": {
    "collapsed": false
   },
   "outputs": [
    {
     "name": "stdout",
     "output_type": "stream",
     "text": [
      "RandomForestClassifier(bootstrap=True, class_weight={0: 2, 1: 10},\n",
      "            criterion='gini', max_depth=30, max_features='auto',\n",
      "            max_leaf_nodes=None, min_impurity_split=1e-07,\n",
      "            min_samples_leaf=10, min_samples_split=5,\n",
      "            min_weight_fraction_leaf=0.0, n_estimators=50, n_jobs=1,\n",
      "            oob_score=False, random_state=None, verbose=0,\n",
      "            warm_start=False)\n",
      "{'class_weight': {0: 2, 1: 10}, 'max_depth': 30, 'min_samples_leaf': 10}\n"
     ]
    }
   ],
   "source": [
    "print(grid_clf.best_estimator_)\n",
    "print(grid_clf.best_params_)"
   ]
  },
  {
   "cell_type": "code",
   "execution_count": 29,
   "metadata": {
    "collapsed": false
   },
   "outputs": [
    {
     "name": "stdout",
     "output_type": "stream",
     "text": [
      "[[35547  1540]\n",
      " [ 1630  1253]]\n",
      "roc : 0.820812643099\n",
      "--------------------------\n"
     ]
    }
   ],
   "source": [
    "y_pred = grid_clf.predict(X_test)\n",
    "print(confusion_matrix(y_test,y_pred))\n",
    "print('roc :', roc_auc_score(y_test,grid_clf.predict_proba(X_test)[:,1]))\n",
    "print(\"--------------------------\")"
   ]
  },
  {
   "cell_type": "code",
   "execution_count": 25,
   "metadata": {
    "collapsed": false
   },
   "outputs": [
    {
     "name": "stdout",
     "output_type": "stream",
     "text": [
      "RandomForestClassifier(bootstrap=True, class_weight={0: 2, 1: 10},\n",
      "            criterion='gini', max_depth=20, max_features='auto',\n",
      "            max_leaf_nodes=None, min_impurity_split=1e-07,\n",
      "            min_samples_leaf=10, min_samples_split=5,\n",
      "            min_weight_fraction_leaf=0.0, n_estimators=50, n_jobs=1,\n",
      "            oob_score=False, random_state=None, verbose=0,\n",
      "            warm_start=False)\n",
      "{'max_depth': 20, 'min_samples_leaf': 10, 'min_samples_split': 5}\n"
     ]
    }
   ],
   "source": [
    "print(grid_clf.best_estimator_)\n",
    "print(grid_clf.best_params_)"
   ]
  },
  {
   "cell_type": "code",
   "execution_count": 26,
   "metadata": {
    "collapsed": false
   },
   "outputs": [
    {
     "name": "stdout",
     "output_type": "stream",
     "text": [
      "[[35417  1670]\n",
      " [ 1590  1293]]\n",
      "roc : 0.819068443475\n",
      "--------------------------\n"
     ]
    }
   ],
   "source": [
    "y_pred = grid_clf.predict(X_test)\n",
    "print(confusion_matrix(y_test,y_pred))\n",
    "print('roc :', roc_auc_score(y_test,grid_clf.predict_proba(X_test)[:,1]))\n",
    "print(\"--------------------------\")"
   ]
  },
  {
   "cell_type": "markdown",
   "metadata": {},
   "source": [
    "# Final Classifier"
   ]
  },
  {
   "cell_type": "code",
   "execution_count": 38,
   "metadata": {
    "collapsed": false
   },
   "outputs": [
    {
     "name": "stdout",
     "output_type": "stream",
     "text": [
      "Train score :  0.890040697868\n",
      "Test score :  0.881185889417\n",
      "[[33585  3502]\n",
      " [ 1247  1636]]\n",
      "roc : 0.822403057464\n",
      "--------------------------\n"
     ]
    }
   ],
   "source": [
    "r_forest = RandomForestClassifier(bootstrap=True, class_weight={0: 1, 1: 10},\n",
    "            criterion='gini', max_depth=30, max_features='auto',\n",
    "            max_leaf_nodes=None, min_impurity_split=1e-07,\n",
    "            min_samples_leaf=15, min_samples_split=5,\n",
    "            min_weight_fraction_leaf=0.0, n_estimators=50, n_jobs=1,\n",
    "            oob_score=False, random_state=None, verbose=0,\n",
    "            warm_start=False)\n",
    "r_forest.fit(X_train,y_train)\n",
    "print('Train score : ', r_forest.score(X_train,y_train))\n",
    "print('Test score : ', r_forest.score(X_test,y_test))\n",
    "y_pred = r_forest.predict(X_test)\n",
    "print(confusion_matrix(y_test,y_pred))\n",
    "print('roc :', roc_auc_score(y_test,r_forest.predict_proba(X_test)[:,1]))\n",
    "print(\"--------------------------\")"
   ]
  },
  {
   "cell_type": "code",
   "execution_count": null,
   "metadata": {
    "collapsed": true
   },
   "outputs": [],
   "source": []
  },
  {
   "cell_type": "code",
   "execution_count": null,
   "metadata": {
    "collapsed": false
   },
   "outputs": [],
   "source": []
  },
  {
   "cell_type": "code",
   "execution_count": null,
   "metadata": {
    "collapsed": false
   },
   "outputs": [],
   "source": []
  },
  {
   "cell_type": "code",
   "execution_count": null,
   "metadata": {
    "collapsed": false
   },
   "outputs": [],
   "source": [
    "r_forest = RandomForestClassifier(bootstrap=True, class_weight={0: 2, 1: 8},\n",
    "            criterion='gini', max_depth=20, max_features='auto',\n",
    "            max_leaf_nodes=None, min_impurity_split=1e-07,\n",
    "            min_samples_leaf=12, min_samples_split=5,\n",
    "            min_weight_fraction_leaf=0.0, n_estimators=50, n_jobs=1,\n",
    "            oob_score=False, random_state=None, verbose=0,\n",
    "            warm_start=False)\n",
    "r_forest.fit(X_train,y_train)\n",
    "print('Train score : ', r_forest.score(X_train,y_train))\n",
    "print('Test score : ', r_forest.score(X_test,y_test))\n",
    "y_pred = r_forest.predict(X_test)\n",
    "print(confusion_matrix(y_test,y_pred))\n",
    "print('roc :', roc_auc_score(y_test,r_forest.predict_proba(X_test)[:,1]))\n",
    "print(\"--------------------------\")"
   ]
  },
  {
   "cell_type": "code",
   "execution_count": null,
   "metadata": {
    "collapsed": false
   },
   "outputs": [],
   "source": [
    "print(grid_clf.best_estimator_)\n",
    "print(grid_clf.best_params_)"
   ]
  },
  {
   "cell_type": "code",
   "execution_count": null,
   "metadata": {
    "collapsed": false
   },
   "outputs": [],
   "source": [
    "r_forest =  RandomForestClassifier(bootstrap=True, class_weight={0: 1, 1: 1},\n",
    "            criterion='gini', max_depth=30, max_features='auto',\n",
    "            max_leaf_nodes=None, min_impurity_split=1e-07,\n",
    "            min_samples_leaf=12, min_samples_split=5,\n",
    "            min_weight_fraction_leaf=0.0, n_estimators=50, n_jobs=-1,\n",
    "            oob_score=False, random_state=None, verbose=0,\n",
    "            warm_start=False)\n",
    "r_forest.fit(X_train,y_train)\n",
    "print('Train score : ', r_forest.score(X_train,y_train))\n",
    "print('Test score : ', r_forest.score(X_test,y_test))\n",
    "y_pred = r_forest.predict(X_test)\n",
    "print(confusion_matrix(y_test,y_cpred))\n",
    "print('roc :', roc_auc_score(y_test,r_forest.predict_proba(X_test)[:,1]))\n",
    "print(\"--------------------------\")\n",
    "print('roc :', roc_auc_score(y_train,r_forest.predict_proba(X_train)[:,1]))\n"
   ]
  },
  {
   "cell_type": "code",
   "execution_count": null,
   "metadata": {
    "collapsed": false
   },
   "outputs": [],
   "source": [
    "r_forest.feature_importances_"
   ]
  },
  {
   "cell_type": "code",
   "execution_count": null,
   "metadata": {
    "collapsed": true
   },
   "outputs": [],
   "source": [
    "r_forest =  RandomForestClassifier(bootstrap=True, class_weight={0: 1, 1: 10},\n",
    "            criterion='gini', max_depth=30, max_features='auto',\n",
    "            max_leaf_nodes=None, min_impurity_split=1e-07,\n",
    "            min_samples_leaf=12, min_samples_split=5,\n",
    "            min_weight_fraction_leaf=0.0, n_estimators=50, n_jobs=-1,\n",
    "            oob_score=False, random_state=None, verbose=1,\n",
    "            warm_start=False)\n",
    "scores = cross_val_score(r_forest, X, y, cv=3, scoring='roc_auc')"
   ]
  },
  {
   "cell_type": "code",
   "execution_count": null,
   "metadata": {
    "collapsed": false
   },
   "outputs": [],
   "source": [
    "r_forest =  RandomForestClassifier(bootstrap=True, class_weight={0: 1, 1: 10},\n",
    "            criterion='gini', max_depth=30, max_features='auto',\n",
    "            max_leaf_nodes=None, min_impurity_split=1e-07,\n",
    "            min_samples_leaf=12, min_samples_split=5,\n",
    "            min_weight_fraction_leaf=0.0, n_estimators=50, n_jobs=-1,\n",
    "            oob_score=False, random_state=None, verbose=0,\n",
    "            warm_start=False)\n",
    "r_forest.fit(X_train,y_train)\n",
    "print('Train score : ', r_forest.score(X_train,y_train))\n",
    "print('Test score : ', r_forest.score(X_test,y_test))\n",
    "y_pred = r_forest.predict(X_test)\n",
    "print(confusion_matrix(y_test,y_pred))\n",
    "print('roc :', roc_auc_score(y_test,r_forest.predict_proba(X_test)[:,1]))\n",
    "print(\"--------------------------\")\n",
    "print('roc :', roc_auc_score(y_train,r_forest.predict_proba(X_train)[:,1]))\n"
   ]
  },
  {
   "cell_type": "code",
   "execution_count": null,
   "metadata": {
    "collapsed": false
   },
   "outputs": [],
   "source": [
    "r_forest.feature_importances_"
   ]
  },
  {
   "cell_type": "code",
   "execution_count": null,
   "metadata": {
    "collapsed": false
   },
   "outputs": [],
   "source": [
    "X.head(1)"
   ]
  },
  {
   "cell_type": "code",
   "execution_count": null,
   "metadata": {
    "collapsed": false
   },
   "outputs": [],
   "source": [
    "r_forest =  RandomForestClassifier(bootstrap=True, class_weight={0: 1, 1: 11},\n",
    "            criterion='gini', max_depth=30, max_features='auto',\n",
    "            max_leaf_nodes=None, min_impurity_split=1e-07,\n",
    "            min_samples_leaf=12, min_samples_split=5,\n",
    "            min_weight_fraction_leaf=0.0, n_estimators=50, n_jobs=-1,\n",
    "            oob_score=False, random_state=None, verbose=0,\n",
    "            warm_start=False)\n",
    "r_forest.fit(X_train,y_train)\n",
    "print('Train score : ', r_forest.score(X_train,y_train))\n",
    "print('Test score : ', r_forest.score(X_test,y_test))\n",
    "y_pred = r_forest.predict(X_test)\n",
    "print(confusion_matrix(y_test,y_pred))\n",
    "print('roc :', roc_auc_score(y_test,r_forest.predict_proba(X_test)[:,1]))\n",
    "print(\"--------------------------\")\n",
    "print('roc :', roc_auc_score(y_train,r_forest.predict_proba(X_train)[:,1]))\n"
   ]
  },
  {
   "cell_type": "code",
   "execution_count": null,
   "metadata": {
    "collapsed": true
   },
   "outputs": [],
   "source": []
  },
  {
   "cell_type": "code",
   "execution_count": null,
   "metadata": {
    "collapsed": true
   },
   "outputs": [],
   "source": []
  },
  {
   "cell_type": "code",
   "execution_count": null,
   "metadata": {
    "collapsed": true
   },
   "outputs": [],
   "source": []
  },
  {
   "cell_type": "code",
   "execution_count": null,
   "metadata": {
    "collapsed": true
   },
   "outputs": [],
   "source": []
  },
  {
   "cell_type": "code",
   "execution_count": null,
   "metadata": {
    "collapsed": false
   },
   "outputs": [],
   "source": [
    "\n",
    "y_decision_fn_scores_acc = grid_clf_acc.decision_function(X_test) \n",
    "\n",
    "print('Grid best parameter (max. accuracy): ', grid_clf_acc.best_params_)\n",
    "print('Grid best score (accuracy): ', grid_clf_acc.best_score_)\n",
    "\n",
    "# alternative metric to optimize over grid parameters: AUC\n",
    "grid_clf_auc = GridSearchCV(clf, param_grid = grid_values, scoring = 'roc_auc')\n",
    "grid_clf_auc.fit(X_train, y_train)\n",
    "y_decision_fn_scores_auc = grid_clf_auc.decision_function(X_test) \n",
    "\n",
    "print('Test set AUC: ', roc_auc_score(y_test, y_decision_fn_scores_auc))\n",
    "print('Grid best parameter (max. AUC): ', grid_clf_auc.best_params_)\n",
    "print('Grid best score (AUC): ', grid_clf_auc.best_score_)\n"
   ]
  },
  {
   "cell_type": "code",
   "execution_count": null,
   "metadata": {
    "collapsed": true
   },
   "outputs": [],
   "source": []
  },
  {
   "cell_type": "code",
   "execution_count": null,
   "metadata": {
    "collapsed": false
   },
   "outputs": [],
   "source": [
    "from sklearn.metrics import roc_curve\n",
    "fpr , tpr, thresholds = roc_curve(y_test,r_forest.predict_proba(X_test)[:,1])\n",
    "plt.figure()\n",
    "plt.plot(fpr,tpr,label = 'ROC knn')\n",
    "close_zero = np.argmin(np.abs(thresholds))\n",
    "plt.plot(fpr[close_zero], tpr[close_zero], 'o',markersize = 3, label ='threshold zero', fillstyle='none',c = 'k', mew=2)\n",
    "plt.legend(loc=4)\n",
    "plt.show()"
   ]
  },
  {
   "cell_type": "code",
   "execution_count": null,
   "metadata": {
    "collapsed": true
   },
   "outputs": [],
   "source": []
  },
  {
   "cell_type": "code",
   "execution_count": null,
   "metadata": {
    "collapsed": true
   },
   "outputs": [],
   "source": []
  },
  {
   "cell_type": "code",
   "execution_count": null,
   "metadata": {
    "collapsed": true
   },
   "outputs": [],
   "source": []
  },
  {
   "cell_type": "markdown",
   "metadata": {
    "collapsed": true
   },
   "source": [
    "# Test set"
   ]
  },
  {
   "cell_type": "code",
   "execution_count": null,
   "metadata": {
    "collapsed": false
   },
   "outputs": [],
   "source": [
    "import matplotlib.pyplot as plt\n",
    "import seaborn as sns\n",
    "%matplotlib inline\n",
    "\n",
    "sns.heatmap(test.isnull(), cbar=False)\n",
    "\n",
    "plt.show()"
   ]
  },
  {
   "cell_type": "code",
   "execution_count": null,
   "metadata": {
    "collapsed": true
   },
   "outputs": [],
   "source": [
    "test = pd.read_csv('readonly/test.csv', encoding = \"latin\", low_memory=False)"
   ]
  },
  {
   "cell_type": "code",
   "execution_count": null,
   "metadata": {
    "collapsed": false,
    "scrolled": true
   },
   "outputs": [],
   "source": [
    "test = test.merge(address , on = 'ticket_id')\n",
    "test = test.merge(lat, on = 'address')\n",
    "test['ticket_issued_date'] = pd.to_datetime(test['ticket_issued_date'])\n",
    "test['hearing_date'] = pd.to_datetime(test['hearing_date'])\n",
    "test['Difference'] = (test['hearing_date'] - test['ticket_issued_date']).dt.days\n",
    "test.isnull().any()"
   ]
  },
  {
   "cell_type": "code",
   "execution_count": null,
   "metadata": {
    "collapsed": false
   },
   "outputs": [],
   "source": [
    "test.head(2)"
   ]
  },
  {
   "cell_type": "code",
   "execution_count": null,
   "metadata": {
    "collapsed": false
   },
   "outputs": [],
   "source": [
    "def t(x):\n",
    "    return x.isnull().value_counts()\n",
    "x = test.apply(t)"
   ]
  },
  {
   "cell_type": "code",
   "execution_count": null,
   "metadata": {
    "collapsed": false
   },
   "outputs": [],
   "source": [
    "x.iloc[:,:15]"
   ]
  },
  {
   "cell_type": "code",
   "execution_count": null,
   "metadata": {
    "collapsed": false
   },
   "outputs": [],
   "source": [
    "x.iloc[:,15:]"
   ]
  },
  {
   "cell_type": "code",
   "execution_count": null,
   "metadata": {
    "collapsed": false
   },
   "outputs": [],
   "source": [
    "test.head(2)"
   ]
  },
  {
   "cell_type": "code",
   "execution_count": null,
   "metadata": {
    "collapsed": false
   },
   "outputs": [],
   "source": [
    "#unique test violation code not in df\n",
    "x = df['violation_code'].unique()\n",
    "\n",
    "def t(i):\n",
    "    if i in x:\n",
    "        return True\n",
    "    return False\n",
    "test['violation_code'].apply(t).value_counts()\n"
   ]
  },
  {
   "cell_type": "code",
   "execution_count": null,
   "metadata": {
    "collapsed": true
   },
   "outputs": [],
   "source": [
    "labelencoder_X.transform(pd.Series(['Department of Public Works']))"
   ]
  },
  {
   "cell_type": "code",
   "execution_count": null,
   "metadata": {
    "collapsed": false
   },
   "outputs": [],
   "source": [
    "X.head(2)"
   ]
  },
  {
   "cell_type": "code",
   "execution_count": null,
   "metadata": {
    "collapsed": true
   },
   "outputs": [],
   "source": []
  },
  {
   "cell_type": "code",
   "execution_count": null,
   "metadata": {
    "collapsed": true
   },
   "outputs": [],
   "source": []
  },
  {
   "cell_type": "code",
   "execution_count": null,
   "metadata": {
    "collapsed": true
   },
   "outputs": [],
   "source": []
  },
  {
   "cell_type": "code",
   "execution_count": null,
   "metadata": {
    "collapsed": true
   },
   "outputs": [],
   "source": []
  },
  {
   "cell_type": "code",
   "execution_count": null,
   "metadata": {
    "collapsed": true
   },
   "outputs": [],
   "source": []
  },
  {
   "cell_type": "code",
   "execution_count": null,
   "metadata": {
    "collapsed": true
   },
   "outputs": [],
   "source": [
    "fig , ax1 = plt.subplots()\n",
    "ax1.boxplot([df['fine_amount'],df['late_fee'], df['discount_amount'],df['judgment_amount']],whis='range');"
   ]
  },
  {
   "cell_type": "markdown",
   "metadata": {
    "collapsed": true
   },
   "source": [
    "## Machine Learning Training"
   ]
  },
  {
   "cell_type": "code",
   "execution_count": null,
   "metadata": {
    "collapsed": false
   },
   "outputs": [],
   "source": [
    "df.groupby('state')['compliance'].value_counts()[10:20]"
   ]
  },
  {
   "cell_type": "code",
   "execution_count": null,
   "metadata": {
    "collapsed": false,
    "scrolled": true
   },
   "outputs": [],
   "source": [
    "df.groupby('judgment_amount')['compliance'].value_counts()"
   ]
  },
  {
   "cell_type": "code",
   "execution_count": null,
   "metadata": {
    "collapsed": true
   },
   "outputs": [],
   "source": [
    "print(df[df['judgment_amount'] < 250].groupby('state')['compliance'].value_counts().to_string())"
   ]
  },
  {
   "cell_type": "code",
   "execution_count": null,
   "metadata": {
    "collapsed": false
   },
   "outputs": [],
   "source": [
    "df = df.set_index('ticket_id')"
   ]
  },
  {
   "cell_type": "code",
   "execution_count": null,
   "metadata": {
    "collapsed": true
   },
   "outputs": [],
   "source": [
    "df.head(1)"
   ]
  },
  {
   "cell_type": "code",
   "execution_count": null,
   "metadata": {
    "collapsed": true
   },
   "outputs": [],
   "source": [
    "X = df.iloc[:,:-1]\n",
    "y = df.iloc[:,-1]"
   ]
  },
  {
   "cell_type": "code",
   "execution_count": null,
   "metadata": {
    "collapsed": false
   },
   "outputs": [],
   "source": [
    "for i in ['agency_name','state','country']:\n",
    "    print(i,len(df[i].unique()))"
   ]
  },
  {
   "cell_type": "code",
   "execution_count": null,
   "metadata": {
    "collapsed": false
   },
   "outputs": [],
   "source": [
    "from sklearn.preprocessing import OneHotEncoder, LabelEncoder\n",
    "\n",
    "labelencoder_X = LabelEncoder()\n",
    "X.iloc[:,0] = labelencoder_X.fit_transform(X.iloc[:,0])\n",
    "X.iloc[:,1] = labelencoder_X.fit_transform(X.iloc[:,1])\n",
    "X.iloc[:,2] = labelencoder_X.fit_transform(X.iloc[:,2])\n",
    "\n"
   ]
  },
  {
   "cell_type": "code",
   "execution_count": null,
   "metadata": {
    "collapsed": false
   },
   "outputs": [],
   "source": [
    "onehotencoder = OneHotEncoder(categorical_features=[0,1,2,3])\n",
    "X = onehotencoder.fit_transform(X).toarray()"
   ]
  },
  {
   "cell_type": "code",
   "execution_count": null,
   "metadata": {
    "collapsed": true
   },
   "outputs": [],
   "source": [
    "from sklearn.model_selection import train_test_split\n",
    "X_train, X_test, y_train, y_test = train_test_split(X,y,random_state = 0)"
   ]
  },
  {
   "cell_type": "code",
   "execution_count": null,
   "metadata": {
    "collapsed": true
   },
   "outputs": [],
   "source": [
    "from sklearn.metrics import confusion_matrix\n",
    "\n",
    "from sklearn.linear_model import LogisticRegression\n",
    "from sklearn.tree import DecisionTreeClassifier\n",
    "from sklearn.neighbors import KNeighborsClassifier\n",
    "from sklearn.svm import SVC\n",
    "from sklearn.naive_bayes import GaussianNB\n",
    "from sklearn.ensemble import GradientBoostingClassifier"
   ]
  },
  {
   "cell_type": "markdown",
   "metadata": {},
   "source": [
    "## Agency_name \n",
    "We will select this"
   ]
  },
  {
   "cell_type": "code",
   "execution_count": null,
   "metadata": {
    "collapsed": false
   },
   "outputs": [],
   "source": [
    "x = ['agency_name', 'inspector_name','violation_street_number','violation_street_name','mailing_address_str_number',\n",
    "    'mailing_address_str_name','city', 'state', 'zip_code','violation_code']\n",
    "print('Unique :', len(df[x].unique()))\n",
    "print(df[x].value_counts(dropna=False))\n",
    "print(\"----------------------------------\")\n",
    "print(df.groupby('agency_name')['compliance'].value_counts())"
   ]
  },
  {
   "cell_type": "markdown",
   "metadata": {},
   "source": [
    "---\n",
    "Not to use violator_name, streets,"
   ]
  },
  {
   "cell_type": "code",
   "execution_count": null,
   "metadata": {
    "collapsed": false
   },
   "outputs": [],
   "source": [
    "from sklearn.linear_model import LogisticRegression\n",
    "\n",
    "X_train = pd.read_csv(\"train.csv\", encoding = 'ISO-8859-1' )\n",
    "X_test = pd.read_csv(\"readonly/test.csv\", encoding = 'ISO-8859-1' )\n",
    "X_train = X_train[(X_train['compliance'] == 0) | (X_train['compliance'] == 1)]\n",
    "addresses = pd.read_csv('readonly/addresses.csv')\n",
    "latlons = pd.read_csv('readonly/latlons.csv')\n",
    "\n",
    "addresses = addresses.set_index('address')\n",
    "latlons = latlons.set_index('address')\n",
    "addresses = addresses.join(latlons, how='left')\n",
    "addresses = addresses.set_index('ticket_id')\n",
    "\n",
    "X_train = X_train.set_index('ticket_id')\n",
    "X_test = X_test.set_index('ticket_id')\n",
    "X_train = X_train.join(addresses, how='left')\n",
    "X_test = X_test.join(addresses, how='left') \n",
    "y_train = X_train[['compliance']]\n",
    "\n",
    "X_train.lat.fillna(method='pad', inplace=True)\n",
    "X_train.lon.fillna(method='pad', inplace=True)\n",
    "X_train.state.fillna(method='pad', inplace=True)\n",
    "\n",
    "X_test.lat.fillna(method='pad', inplace=True)\n",
    "X_test.lon.fillna(method='pad', inplace=True)\n",
    "\n",
    "\n",
    "train_leaks = [\n",
    "    'balance_due',\n",
    "    'collection_status',\n",
    "    'compliance_detail',\n",
    "    'payment_amount',\n",
    "    'payment_date',\n",
    "    'payment_status', \n",
    "    'compliance'\n",
    "]\n",
    "\n",
    "useless_labels = ['agency_name', 'violation_street_number', 'mailing_address_str_number', 'state', 'disposition', 'violator_name', 'zip_code', 'country', 'city',\n",
    "                      'inspector_name', 'violation_street_name',\n",
    "                      'violation_zip_code', 'violation_description', 'mailing_address_str_name',\n",
    "                      'non_us_str_code',\n",
    "                      'ticket_issued_date', 'hearing_date', 'violation_code', 'grafitti_status']\n",
    "\n",
    "X_train.drop(train_leaks, inplace=True, axis=1)\n",
    "X_train.drop(useless_labels, inplace= True, axis=1)\n",
    "X_test.drop(useless_labels, inplace=True, axis=1)\n",
    "\n",
    "clfLR = LogisticRegression().fit(X_train, y_train)\n"
   ]
  },
  {
   "cell_type": "code",
   "execution_count": null,
   "metadata": {
    "collapsed": false
   },
   "outputs": [],
   "source": [
    "clfLR.score(X_train,y_train)"
   ]
  },
  {
   "cell_type": "code",
   "execution_count": null,
   "metadata": {
    "collapsed": false
   },
   "outputs": [],
   "source": [
    "%matplotlib inline\n",
    "import matplotlib.pyplot as plt\n",
    "import seaborn as sns"
   ]
  },
  {
   "cell_type": "code",
   "execution_count": null,
   "metadata": {
    "collapsed": false
   },
   "outputs": [],
   "source": [
    "plt.figure(figsize=(12,12))\n",
    "sns.heatmap(df.corr(),annot=True)\n"
   ]
  }
 ],
 "metadata": {
  "coursera": {
   "course_slug": "python-machine-learning",
   "graded_item_id": "nNS8l",
   "launcher_item_id": "yWWk7",
   "part_id": "w8BSS"
  },
  "kernelspec": {
   "display_name": "Python 3",
   "language": "python",
   "name": "python3"
  },
  "language_info": {
   "codemirror_mode": {
    "name": "ipython",
    "version": 3
   },
   "file_extension": ".py",
   "mimetype": "text/x-python",
   "name": "python",
   "nbconvert_exporter": "python",
   "pygments_lexer": "ipython3",
   "version": "3.6.2"
  }
 },
 "nbformat": 4,
 "nbformat_minor": 2
}
